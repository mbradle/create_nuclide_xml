{
 "cells": [
  {
   "cell_type": "markdown",
   "metadata": {},
   "source": [
    "This notebook applies XPath expressions to Webnucleo XML data. The output is a new XML file with the XPath applied. Begin by running the whole notebook (under Kernel or Runtime, click Run all).  On Colab, you may need to sign into your Google account and to click on 'Run anyway' if an authorship warning comes up."
   ]
  },
  {
   "cell_type": "markdown",
   "metadata": {},
   "source": [
    "First install and import the necessary packages."
   ]
  },
  {
   "cell_type": "code",
   "execution_count": 1,
   "metadata": {},
   "outputs": [],
   "source": [
    "import sys\n",
    "!{sys.executable} -m pip install --quiet wnutils \n",
    "!{sys.executable} -m pip install --quiet requests\n",
    "\n",
    "import wnutils.xml as wx\n",
    "import os, io, requests"
   ]
  },
  {
   "cell_type": "markdown",
   "metadata": {},
   "source": [
    "Begin by reading in the XML. You may read the data over the web from an appropriate URL (the default for this notebook downloads the Webnucleo V2.2 Reaclib data from OSF) or from a local directory (as in the comment). If you are running the notebook on Google Colab, you can upload the data to the work directory by clicking on the directory tab to the left and then clicking the upload symbol. On Colab, you may also read the file from Google Drive (click the Drive icon and follow the instructions)."
   ]
  },
  {
   "cell_type": "code",
   "execution_count": 2,
   "metadata": {},
   "outputs": [],
   "source": [
    "xml = wx.Xml(io.BytesIO(requests.get('https://osf.io/kyhbs/download').content))\n",
    "#xml= wx.Xml(\"example.xml\")"
   ]
  },
  {
   "cell_type": "markdown",
   "metadata": {},
   "source": [
    "Check the validity and type of the xml."
   ]
  },
  {
   "cell_type": "code",
   "execution_count": 3,
   "metadata": {},
   "outputs": [],
   "source": [
    "xml.validate()\n",
    "\n",
    "allowed_types = {'nuclear_data', 'nuclear_network', 'libnucnet_input'}\n",
    "\n",
    "if xml.get_type() not in allowed_types:\n",
    "    print(\"Invalid input xml type for routine.\")\n",
    "    exit()"
   ]
  },
  {
   "cell_type": "markdown",
   "metadata": {},
   "source": [
    "Choose the XPath expressions to apply.  The possible XPath expressions are on the nuclides, the reactions, and the zones, and the expressions will be applied in that order (for example, if the nuclide XPath expression excludes certain nuclides from the nuclear collection, it will also do so from the reactions and zones).  The default is to select only nuclei with atomic number less than or equal to 30, reactions, if present, that include neutrons as a reactant or electrons as a product, and, if present, the first 10 zones.  The XPath expression \"\" or \"[.]\" selects all nodes of the given type."
   ]
  },
  {
   "cell_type": "code",
   "execution_count": 4,
   "metadata": {},
   "outputs": [],
   "source": [
    "nuc_xpath = \"[z <= 30]\"\n",
    "reac_xpath = \"[reactant = 'n' or product = 'electron']\"\n",
    "zone_xpath = \"[position() <= 10]\""
   ]
  },
  {
   "cell_type": "markdown",
   "metadata": {},
   "source": [
    "Now create a new XML object and apply the XPath."
   ]
  },
  {
   "cell_type": "code",
   "execution_count": 5,
   "metadata": {},
   "outputs": [],
   "source": [
    "new_xml = wx.New_Xml(xml_type=xml.get_type())\n",
    "nuclides = xml.get_nuclide_data(nuc_xpath)\n",
    "new_xml.set_nuclide_data(nuclides)\n",
    "\n",
    "if xml.get_type() != \"nuclear_data\":\n",
    "    new_reactions = {}\n",
    "    reactions = xml.get_reaction_data(reac_xpath)\n",
    "    new_reactions = {}\n",
    "    other_reaction_elements = ['gamma', 'electron', 'positron',\n",
    "                               'neutrino_e', 'anti-neutrino_e',\n",
    "                               'neutrino_mu', 'anti-neutrino_mu',\n",
    "                               'neutrino_tau', 'anti-neutrino_tau']\n",
    "\n",
    "    for reaction in reactions:\n",
    "        b_valid = True\n",
    "        for reactant in reactions[reaction].reactants:\n",
    "            if reactant not in nuclides and \\\n",
    "               reactant not in other_reaction_elements:\n",
    "                   b_valid = False\n",
    "        for product in reactions[reaction].products:\n",
    "            if product not in nuclides and \\\n",
    "               product not in other_reaction_elements:\n",
    "                   b_valid = False\n",
    "        if b_valid:\n",
    "            new_reactions[reaction] = reactions[reaction]\n",
    "\n",
    "    new_xml.set_reaction_data(new_reactions)\n",
    "\n",
    "    if xml.get_type() != \"nuclear_network\":\n",
    "        zones = xml.get_zone_data(zone_xpath)\n",
    "\n",
    "        new_zones = {}\n",
    "\n",
    "        for zone in zones:\n",
    "            props = zones[zone]['properties']\n",
    "            x = {}\n",
    "            for sp in zones[zone]['mass fractions']:\n",
    "                if sp[0] in nuclides:\n",
    "                    x[sp] = zones[zone]['mass fractions'][sp]\n",
    "            new_zones[zone] = {'properties': props, 'mass fractions': x}\n",
    "\n",
    "        new_xml.set_zone_data(new_zones)\n"
   ]
  },
  {
   "cell_type": "markdown",
   "metadata": {},
   "source": [
    "Choose an output file name."
   ]
  },
  {
   "cell_type": "code",
   "execution_count": 6,
   "metadata": {},
   "outputs": [],
   "source": [
    "my_file = \"my_xpath.xml\""
   ]
  },
  {
   "cell_type": "markdown",
   "metadata": {},
   "source": [
    "Write out the data to the file.  The new XML file exists in the working directory.  If you are running this notebook on Google Colab, you can download the file by clicking on the folder icon on the left to show the current files in your working directory.  To download the file, click on the file name and then choose download."
   ]
  },
  {
   "cell_type": "code",
   "execution_count": 7,
   "metadata": {},
   "outputs": [],
   "source": [
    "new_xml.write(my_file)"
   ]
  },
  {
   "cell_type": "code",
   "execution_count": null,
   "metadata": {},
   "outputs": [],
   "source": []
  }
 ],
 "metadata": {
  "kernelspec": {
   "display_name": "Python 3",
   "language": "python",
   "name": "python3"
  },
  "language_info": {
   "codemirror_mode": {
    "name": "ipython",
    "version": 3
   },
   "file_extension": ".py",
   "mimetype": "text/x-python",
   "name": "python",
   "nbconvert_exporter": "python",
   "pygments_lexer": "ipython3",
   "version": "3.7.12"
  }
 },
 "nbformat": 4,
 "nbformat_minor": 4
}
