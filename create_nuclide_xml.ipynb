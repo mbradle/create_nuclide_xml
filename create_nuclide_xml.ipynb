{
 "cells": [
  {
   "cell_type": "markdown",
   "metadata": {},
   "source": [
    "This notebook creates webnucleo nuclide XML data from user-supplied input.  First install and import the necessary packages."
   ]
  },
  {
   "cell_type": "code",
   "execution_count": 1,
   "metadata": {},
   "outputs": [],
   "source": [
    "import sys\n",
    "!{sys.executable} -m pip install --quiet wnutils\n",
    "import wnutils.xml as wx"
   ]
  },
  {
   "cell_type": "markdown",
   "metadata": {},
   "source": [
    "Now create a new XML object."
   ]
  },
  {
   "cell_type": "code",
   "execution_count": 2,
   "metadata": {},
   "outputs": [],
   "source": [
    "new_xml = wx.New_Xml(xml_type = 'nuclear_data')"
   ]
  },
  {
   "cell_type": "markdown",
   "metadata": {},
   "source": [
    "Create a dictionary of nuclides."
   ]
  },
  {
   "cell_type": "code",
   "execution_count": 3,
   "metadata": {},
   "outputs": [],
   "source": [
    "nuclides = {}"
   ]
  },
  {
   "cell_type": "markdown",
   "metadata": {},
   "source": [
    "Add nuclides.  This notebook will create three nuclides.  One will be $^{26}$Al, with its ground and meta-stable state ensembles.  For each species, supply the atomic number (*z**, an int), the mass number (*a*, an int), a note on the provenance of the data (*source*, a string), the mass excess (*mass excess*, a float), the spin (*spin*, a float), and two arrays (*t9* and *partf*, each with float elements).  The two arrays give, for the species and for each temperature, the partition function."
   ]
  },
  {
   "cell_type": "code",
   "execution_count": 4,
   "metadata": {},
   "outputs": [],
   "source": [
    "t9 = [1,2,3,4]\n",
    "partf = [1,2,3,4]\n",
    "nuclides['new1'] = {'z': 120, 'a': 360, 'state': 'g', 'source': 'my data for ubn360', 'mass excess': -50, \n",
    "                    'spin': 0, 't9': t9, 'partf': partf}\n",
    "t9 = [1,2,3,4]\n",
    "t9 = [1,2,3,4]\n",
    "partf = [1,4,9,16]\n",
    "nuclides['new2'] = {'z': 13, 'a': 26, 'state': 'g', 'source': 'my data for al26g', 'mass excess': -12.2101, \n",
    "                    'spin': 5, 't9': t9, 'partf': partf}\n",
    "t9 = [1,2,3,4]\n",
    "partf = [1,8,27,64]\n",
    "nuclides['new3'] = {'z': 13, 'a': 26, 'state': 'm', 'source': 'my data for al26m', 'mass excess': -11.9818, \n",
    "                    'spin': 0, 't9': t9, 'partf': partf}"
   ]
  },
  {
   "cell_type": "markdown",
   "metadata": {},
   "source": [
    "Now set the nuclide data in the new XML."
   ]
  },
  {
   "cell_type": "code",
   "execution_count": 5,
   "metadata": {},
   "outputs": [],
   "source": [
    "new_xml.set_nuclide_data(nuclides)"
   ]
  },
  {
   "cell_type": "markdown",
   "metadata": {},
   "source": [
    "Choose an output file name."
   ]
  },
  {
   "cell_type": "code",
   "execution_count": 6,
   "metadata": {},
   "outputs": [],
   "source": [
    "my_file = \"my_nuclides.xml\""
   ]
  },
  {
   "cell_type": "markdown",
   "metadata": {},
   "source": [
    "Write out the data to the file."
   ]
  },
  {
   "cell_type": "code",
   "execution_count": 7,
   "metadata": {},
   "outputs": [],
   "source": [
    "new_xml.write(my_file)"
   ]
  },
  {
   "cell_type": "markdown",
   "metadata": {},
   "source": [
    "Now print out the XML file contents."
   ]
  },
  {
   "cell_type": "code",
   "execution_count": 8,
   "metadata": {},
   "outputs": [
    {
     "name": "stdout",
     "output_type": "stream",
     "text": [
      "<nuclear_data>\r\n",
      "  <!--ubn360-->\r\n",
      "  <nuclide>\r\n",
      "    <z>120</z>\r\n",
      "    <a>360</a>\r\n",
      "    <states>\r\n",
      "      <state id=\"g\">\r\n",
      "        <source>my data for ubn360</source>\r\n",
      "        <mass_excess>-50</mass_excess>\r\n",
      "        <spin>0</spin>\r\n",
      "        <partf_table>\r\n",
      "          <point>\r\n",
      "            <t9>1</t9>\r\n",
      "            <log10_partf>0.0</log10_partf>\r\n",
      "          </point>\r\n",
      "          <point>\r\n",
      "            <t9>2</t9>\r\n",
      "            <log10_partf>0.3010299956639812</log10_partf>\r\n",
      "          </point>\r\n",
      "          <point>\r\n",
      "            <t9>3</t9>\r\n",
      "            <log10_partf>0.47712125471966244</log10_partf>\r\n",
      "          </point>\r\n",
      "          <point>\r\n",
      "            <t9>4</t9>\r\n",
      "            <log10_partf>0.6020599913279624</log10_partf>\r\n",
      "          </point>\r\n",
      "        </partf_table>\r\n",
      "      </state>\r\n",
      "    </states>\r\n",
      "  </nuclide>\r\n",
      "  <!--al26-->\r\n",
      "  <nuclide>\r\n",
      "    <z>13</z>\r\n",
      "    <a>26</a>\r\n",
      "    <states>\r\n",
      "      <state id=\"g\">\r\n",
      "        <source>my data for al26g</source>\r\n",
      "        <mass_excess>-12.2101</mass_excess>\r\n",
      "        <spin>5</spin>\r\n",
      "        <partf_table>\r\n",
      "          <point>\r\n",
      "            <t9>1</t9>\r\n",
      "            <log10_partf>-1.041392685158225</log10_partf>\r\n",
      "          </point>\r\n",
      "          <point>\r\n",
      "            <t9>2</t9>\r\n",
      "            <log10_partf>-0.43933269383026263</log10_partf>\r\n",
      "          </point>\r\n",
      "          <point>\r\n",
      "            <t9>3</t9>\r\n",
      "            <log10_partf>-0.08715017571890014</log10_partf>\r\n",
      "          </point>\r\n",
      "          <point>\r\n",
      "            <t9>4</t9>\r\n",
      "            <log10_partf>0.16272729749769976</log10_partf>\r\n",
      "          </point>\r\n",
      "        </partf_table>\r\n",
      "      </state>\r\n",
      "      <state id=\"m\">\r\n",
      "        <source>my data for al26m</source>\r\n",
      "        <mass_excess>-11.9818</mass_excess>\r\n",
      "        <spin>0</spin>\r\n",
      "        <partf_table>\r\n",
      "          <point>\r\n",
      "            <t9>1</t9>\r\n",
      "            <log10_partf>0.0</log10_partf>\r\n",
      "          </point>\r\n",
      "          <point>\r\n",
      "            <t9>2</t9>\r\n",
      "            <log10_partf>0.9030899869919435</log10_partf>\r\n",
      "          </point>\r\n",
      "          <point>\r\n",
      "            <t9>3</t9>\r\n",
      "            <log10_partf>1.4313637641589874</log10_partf>\r\n",
      "          </point>\r\n",
      "          <point>\r\n",
      "            <t9>4</t9>\r\n",
      "            <log10_partf>1.806179973983887</log10_partf>\r\n",
      "          </point>\r\n",
      "        </partf_table>\r\n",
      "      </state>\r\n",
      "    </states>\r\n",
      "  </nuclide>\r\n",
      "</nuclear_data>\r\n"
     ]
    }
   ],
   "source": [
    "!cat $my_file"
   ]
  },
  {
   "cell_type": "markdown",
   "metadata": {},
   "source": [
    "The new XML file exists in the local directory.  If you are running this notebook on Google Colab, you can download the file by clicking on the folder icon on the left to show the current files in your working directory.  To download the file, right click (or control click) on the file name and then choose download."
   ]
  },
  {
   "cell_type": "code",
   "execution_count": null,
   "metadata": {},
   "outputs": [],
   "source": []
  }
 ],
 "metadata": {
  "kernelspec": {
   "display_name": "Python 3",
   "language": "python",
   "name": "python3"
  },
  "language_info": {
   "codemirror_mode": {
    "name": "ipython",
    "version": 3
   },
   "file_extension": ".py",
   "mimetype": "text/x-python",
   "name": "python",
   "nbconvert_exporter": "python",
   "pygments_lexer": "ipython3",
   "version": "3.7.10"
  }
 },
 "nbformat": 4,
 "nbformat_minor": 4
}
