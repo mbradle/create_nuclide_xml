{
 "cells": [
  {
   "cell_type": "markdown",
   "metadata": {},
   "source": [
    "This notebook creates webnucleo zone XML data from user-supplied input.  Begin by running the whole notebook (under Kernel or Runtime, click Run all).  On Colab, you may need to sign into your Google account and to click on 'Run anyway' if an authorship warning comes up."
   ]
  },
  {
   "cell_type": "markdown",
   "metadata": {},
   "source": [
    "First install and import the necessary packages."
   ]
  },
  {
   "cell_type": "code",
   "execution_count": 1,
   "metadata": {},
   "outputs": [],
   "source": [
    "import sys\n",
    "!{sys.executable} -m pip install --quiet wnutils\n",
    "import wnutils.xml as wx"
   ]
  },
  {
   "cell_type": "markdown",
   "metadata": {},
   "source": [
    "Create a dictionary of zones."
   ]
  },
  {
   "cell_type": "code",
   "execution_count": 2,
   "metadata": {},
   "outputs": [],
   "source": [
    "zones = {}"
   ]
  },
  {
   "cell_type": "markdown",
   "metadata": {},
   "source": [
    "Add zones.  Zones are a collection of properties and mass fractions.  They comprise the mutable data in a Webnucleo project calculation.  The dictionary *zones* includes all the zones.  Zone labels are denoted *label1*, *label2*, and *label3*, with the latter two being optional.  The labels are keys to the *zones* dictionary.  If only a single  string is provided as the key, that will be the attribute *label1* for the zone in the resulting XML file.  If the key for the entry has multiple labels, enter them as a tuple.\n",
    "\n",
    "Each zone needs a *properties* and *mass fractions* dictionary.  Each property key is either a string or a tuple of up to three strings.  The string or the first tuple element will be the property *name*.  If the key is a tuple, the second and third elements will be a *tag1* and *tag2* for the property.\n",
    "\n",
    "The key for each mass fraction entry is a tuple giving the species name, atomic number Z, and mass number A.\n",
    "\n",
    "It is possible to add as many zones as desired."
   ]
  },
  {
   "cell_type": "code",
   "execution_count": 3,
   "metadata": {},
   "outputs": [],
   "source": [
    "properties = {'t9_0': 10, 'rho_0': 1.e10, ('note', '1'): 'This is my note', ('note', '2'): 'This is another note'}\n",
    "mass_fractions = {('n', 0, 1): 0.5, ('h1', 1, 1): 0.5}\n",
    "zones['0'] = {'properties': properties, 'mass fractions': mass_fractions}\n",
    "\n",
    "zones[('George', 'Washington')] = {'properties': {}, 'mass fractions': {('he4', 2, 4): 1}}\n",
    "\n",
    "properties = {('x', 'y', 'z'): '3d property'}\n",
    "zones[('Groucho', 'Chico', 'Harpo')] = {'properties': properties, 'mass fractions': {}}"
   ]
  },
  {
   "cell_type": "markdown",
   "metadata": {},
   "source": [
    "Now create a new XML object and set the zone data in the new XML."
   ]
  },
  {
   "cell_type": "code",
   "execution_count": 4,
   "metadata": {},
   "outputs": [],
   "source": [
    "new_xml = wx.New_Xml(xml_type = 'zone_data')\n",
    "new_xml.set_zone_data(zones)"
   ]
  },
  {
   "cell_type": "markdown",
   "metadata": {},
   "source": [
    "Choose an output file name."
   ]
  },
  {
   "cell_type": "code",
   "execution_count": 5,
   "metadata": {},
   "outputs": [],
   "source": [
    "my_file = \"my_zones.xml\""
   ]
  },
  {
   "cell_type": "markdown",
   "metadata": {},
   "source": [
    "Write out the data to the file.  The new XML file exists in the working directory.  If you are running this notebook on Google Colab, you can download the file by clicking on the folder icon on the left to show the current files in your working directory.  To download the file, click on the file name and then choose download."
   ]
  },
  {
   "cell_type": "code",
   "execution_count": 6,
   "metadata": {},
   "outputs": [],
   "source": [
    "new_xml.write(my_file)"
   ]
  },
  {
   "cell_type": "markdown",
   "metadata": {},
   "source": [
    "Now print out the XML file contents."
   ]
  },
  {
   "cell_type": "code",
   "execution_count": 7,
   "metadata": {},
   "outputs": [
    {
     "name": "stdout",
     "output_type": "stream",
     "text": [
      "<zone_data>\r\n",
      "  <zone label1=\"0\">\r\n",
      "    <optional_properties>\r\n",
      "      <property name=\"t9_0\">10</property>\r\n",
      "      <property name=\"rho_0\">10000000000.0</property>\r\n",
      "      <property name=\"note\" tag1=\"1\">This is my note</property>\r\n",
      "      <property name=\"note\" tag1=\"2\">This is another note</property>\r\n",
      "    </optional_properties>\r\n",
      "    <mass_fractions>\r\n",
      "      <nuclide name=\"n\">\r\n",
      "        <z>0</z>\r\n",
      "        <a>1</a>\r\n",
      "        <x>0.5</x>\r\n",
      "      </nuclide>\r\n",
      "      <nuclide name=\"h1\">\r\n",
      "        <z>1</z>\r\n",
      "        <a>1</a>\r\n",
      "        <x>0.5</x>\r\n",
      "      </nuclide>\r\n",
      "    </mass_fractions>\r\n",
      "  </zone>\r\n",
      "  <zone label1=\"George\" label2=\"Washington\">\r\n",
      "    <mass_fractions>\r\n",
      "      <nuclide name=\"he4\">\r\n",
      "        <z>2</z>\r\n",
      "        <a>4</a>\r\n",
      "        <x>1</x>\r\n",
      "      </nuclide>\r\n",
      "    </mass_fractions>\r\n",
      "  </zone>\r\n",
      "  <zone label1=\"Groucho\" label2=\"Chico\" label3=\"Harpo\">\r\n",
      "    <optional_properties>\r\n",
      "      <property name=\"x\" tag1=\"y\" tag2=\"z\">3d property</property>\r\n",
      "    </optional_properties>\r\n",
      "    <mass_fractions/>\r\n",
      "  </zone>\r\n",
      "</zone_data>\r\n"
     ]
    }
   ],
   "source": [
    "!cat $my_file"
   ]
  }
 ],
 "metadata": {
  "kernelspec": {
   "display_name": "Python 3",
   "language": "python",
   "name": "python3"
  },
  "language_info": {
   "codemirror_mode": {
    "name": "ipython",
    "version": 3
   },
   "file_extension": ".py",
   "mimetype": "text/x-python",
   "name": "python",
   "nbconvert_exporter": "python",
   "pygments_lexer": "ipython3",
   "version": "3.7.10"
  }
 },
 "nbformat": 4,
 "nbformat_minor": 4
}
