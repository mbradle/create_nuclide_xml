{
 "cells": [
  {
   "cell_type": "markdown",
   "metadata": {},
   "source": [
    "This notebook is designed to alter webnucleo xml files by removing any and all data corresponding to a particular species. The notebook requires wnutils, but will quietly handle the installation in the 1st cell. "
   ]
  },
  {
   "cell_type": "code",
   "execution_count": 1,
   "metadata": {},
   "outputs": [],
   "source": [
    "import sys\n",
    "!{sys.executable} -m pip install --quiet wnutils \n",
    "!{sys.executable} -m pip install --quiet requests\n",
    "\n",
    "import wnutils.xml as wx\n",
    "import matplotlib.pyplot as plt\n",
    "import numpy as np\n",
    "import os, io, requests"
   ]
  },
  {
   "cell_type": "markdown",
   "metadata": {},
   "source": [
    "The cell below contains the function that will remove all the data pertaining to the list of species you feed it and write the new xml."
   ]
  },
  {
   "cell_type": "code",
   "execution_count": 2,
   "metadata": {},
   "outputs": [],
   "source": [
    "def remove_species(xml, species_to_remove):\n",
    "    my_type = xml.get_type()\n",
    "    new_xml = wx.New_Xml(my_type)\n",
    "    \n",
    "    #remove nuclides\n",
    "    if my_type is not 'zone_data':\n",
    "\n",
    "        nuclides = xml.get_nuclide_data()\n",
    "\n",
    "        for s in species_to_remove:\n",
    "            if s in nuclides:\n",
    "                nuclides.pop(s)\n",
    "        \n",
    "        new_xml.set_nuclide_data(nuclides)\n",
    "        \n",
    "    #remove reactions\n",
    "    if type is not 'zone_data':\n",
    "\n",
    "        reactions = xml.get_reaction_data()\n",
    "\n",
    "        reac_xpath = '[(reactant = \\'' + species_to_remove[0] + \\\n",
    "            '\\' or product = \\'' + species_to_remove[0] + '\\')'\n",
    "        \n",
    "        for i in range(1, len(species_to_remove)):\n",
    "            reac_xpath += ' or (reactant = \\'' + species_to_remove[i] +\\\n",
    "                '\\' or product = \\'' + species_to_remove[i] + '\\')'\n",
    "        \n",
    "        reac_xpath += ']'\n",
    "\n",
    "        reactions_to_remove = xml.get_reaction_data(reac_xpath)\n",
    "\n",
    "        for s in reactions_to_remove:\n",
    "            if s in reactions:\n",
    "                reactions.pop(s)\n",
    "        new_xml.set_reaction_data(reactions)\n",
    "\n",
    "    #remove nuclides from zone data\n",
    "    if type == 'zone_data' or type == 'libnucnet_input':\n",
    "        zones = xml.get_zone_data()\n",
    "\n",
    "        t_list =[]\n",
    "        for s in species_to_remove:\n",
    "            z, a, state = xml.get_z_a_state_from_nuclide_name(s)\n",
    "            t_list.append((s,z,a))\n",
    "        \n",
    "        for zone in zones:\n",
    "            for t in t_list:\n",
    "                if t in zones[zone]['mass fractions']:\n",
    "                    zones[zone]['mass fractions'].pop(t)\n",
    "        \n",
    "        new_xml.set_zone_data(zones)\n",
    "    \n",
    "    return new_xml"
   ]
  },
  {
   "cell_type": "markdown",
   "metadata": {},
   "source": [
    "Begin by reading in the old XML. You may read the data over the web from an appropriate URL (the default for this notebook downloads the Webnucleo V2.2 Reaclib data from [OSF](https://osf.io/kyhbs/) or from a local directory (as in the comment). If you are running the notebook on Google Colab, you can upload the data to the work directory by clicking on the directory tab to the left and then clicking the upload symbol. On Colab, you may also read the file from Google Drive (click the Drive icon and follow the instructions)."
   ]
  },
  {
   "cell_type": "code",
   "execution_count": 3,
   "metadata": {},
   "outputs": [],
   "source": [
    "xml = wx.Xml(io.BytesIO(requests.get('https://osf.io/kyhbs/download').content))\n",
    "#xml= wx.Xml(\"example.xml\")"
   ]
  },
  {
   "cell_type": "markdown",
   "metadata": {},
   "source": [
    "Choose the species to remove."
   ]
  },
  {
   "cell_type": "code",
   "execution_count": 4,
   "metadata": {},
   "outputs": [],
   "source": [
    "species_to_remove = ['kr84','kr85','kr86']"
   ]
  },
  {
   "cell_type": "markdown",
   "metadata": {},
   "source": [
    "This cell creates a new xml object of the same type as the input xml but with the specified species removed.  This operation can take some time."
   ]
  },
  {
   "cell_type": "code",
   "execution_count": null,
   "metadata": {},
   "outputs": [],
   "source": [
    "new_xml = remove_species(xml, species_to_remove)"
   ]
  },
  {
   "cell_type": "markdown",
   "metadata": {},
   "source": [
    "Output the new file.  Change the name of the output file to desired string."
   ]
  },
  {
   "cell_type": "code",
   "execution_count": null,
   "metadata": {},
   "outputs": [],
   "source": [
    "new_file_name = \"my_output.xml\"\n",
    "new_xml.write(new_file_name)"
   ]
  },
  {
   "cell_type": "code",
   "execution_count": null,
   "metadata": {},
   "outputs": [],
   "source": []
  }
 ],
 "metadata": {
  "interpreter": {
   "hash": "31f2aee4e71d21fbe5cf8b01ff0e069b9275f58929596ceb00d14d90e3e16cd6"
  },
  "kernelspec": {
   "display_name": "Python 3",
   "language": "python",
   "name": "python3"
  },
  "language_info": {
   "codemirror_mode": {
    "name": "ipython",
    "version": 3
   },
   "file_extension": ".py",
   "mimetype": "text/x-python",
   "name": "python",
   "nbconvert_exporter": "python",
   "pygments_lexer": "ipython3",
   "version": "3.7.13"
  }
 },
 "nbformat": 4,
 "nbformat_minor": 2
}
